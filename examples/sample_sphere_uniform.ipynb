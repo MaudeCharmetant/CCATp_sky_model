{
 "cells": [
  {
   "cell_type": "markdown",
   "metadata": {},
   "source": [
    "$\\Huge Code$ $\\hspace{0.1cm}$ $\\Huge to$ $\\hspace{0.1cm}$ $\\Huge draw$ $\\hspace{0.1cm}$ $\\Huge uniformly$ $\\hspace{0.1cm}$ $\\Huge sampled$ $\\hspace{0.1cm}$ $\\Huge tuples$ $\\hspace{0.1cm}$ $\\Huge of$ $\\hspace{0.1cm}$ $\\Huge coordinates$ $\\hspace{0.1cm}$ $\\Huge on$ $\\hspace{0.1cm}$ $\\Huge the$ $\\hspace{0.1cm}$ $\\Huge sphere$ $\\Huge :$ "
   ]
  },
  {
   "cell_type": "markdown",
   "metadata": {},
   "source": [
    "# Modules : "
   ]
  },
  {
   "cell_type": "code",
   "execution_count": 12,
   "metadata": {
    "ExecuteTime": {
     "end_time": "2021-01-13T10:08:50.038531Z",
     "start_time": "2021-01-13T10:08:50.010408Z"
    }
   },
   "outputs": [],
   "source": [
    "%matplotlib inline\n",
    "import healpy as hp\n",
    "import matplotlib.pyplot as plt \n",
    "from matplotlib import rc\n",
    "rc('text', usetex=True)\n",
    "from astropy.io import fits\n",
    "import numpy as np\n",
    "from astropy import constants as cst\n",
    "from astropy.cosmology import FlatLambdaCDM\n",
    "import pysm as pysm\n",
    "import ccatp_sky_model as sky\n",
    "import os.path\n",
    "from astropy.coordinates import SkyCoord"
   ]
  },
  {
   "cell_type": "code",
   "execution_count": 13,
   "metadata": {
    "ExecuteTime": {
     "end_time": "2021-01-13T10:08:50.362067Z",
     "start_time": "2021-01-13T10:08:50.353458Z"
    }
   },
   "outputs": [],
   "source": [
    "cosmo = FlatLambdaCDM(H0=70, Om0=0.3, Tcmb0=2.7255)\n",
    "T_CMB = cosmo.Tcmb0.si.value\n",
    "k_B = cst.k_B.value\n",
    "h = cst.h.value\n",
    "c = cst.c.value"
   ]
  },
  {
   "cell_type": "code",
   "execution_count": 14,
   "metadata": {
    "ExecuteTime": {
     "end_time": "2021-01-13T10:08:50.953831Z",
     "start_time": "2021-01-13T10:08:50.951136Z"
    }
   },
   "outputs": [],
   "source": [
    "os_path = \"/vol/arc3/data1/sz/CCATp_sky_model/templates/masks/\""
   ]
  },
  {
   "cell_type": "markdown",
   "metadata": {},
   "source": [
    "# Function : "
   ]
  },
  {
   "cell_type": "code",
   "execution_count": 15,
   "metadata": {
    "ExecuteTime": {
     "end_time": "2021-01-13T10:08:52.037657Z",
     "start_time": "2021-01-13T10:08:52.022030Z"
    }
   },
   "outputs": [],
   "source": [
    "def sample_sphere_uniform(n, mask = None, radec = True):\n",
    "\n",
    "\t'''Draws uniformly sampled tuples of coordinates on the sphere. \n",
    "\tAll-sky masks in the healpix format can be applied, in which case \n",
    "\tmasked areas will be excluded.\n",
    "\t\n",
    "\tParameters\n",
    "\t----------\n",
    "\tn: int\n",
    "\t\tNumber of data points to be drawn\n",
    "\tmask: float array, optional\n",
    "\t\tAll-sky healpix mask. If a mask is used data points will \n",
    "\t\tonly be drawn in areas that are not masked. If mask is set\n",
    "\t\tto 'advACT', 'SPT', 'Dust', or 'NVSS', the respective \n",
    "\t\tsurvey masks will be used. Default: None\n",
    "\tradec: bool, optional\n",
    "\t\tDetermines the coordinate system of the output. If True, \n",
    "\t\tequatorial coordinates will be returned, i.e. RA, DEC (fk5). \n",
    "\t\tIf False, galactic coordinates are returned. Default: True\n",
    "\t\t\n",
    "\tReturns\n",
    "\t-------\n",
    "\tphi, theta\n",
    "\t\tlongitude and latitude of sampled points in equatorial or \n",
    "\t\tgalactic coordinate system\n",
    "\t'''\n",
    "    \n",
    "\tif mask is None:\n",
    "\t\tphi = 360 * np.random.random(n)\n",
    "\t\ttheta = np.arccos(2*np.random.random(n) - 1)*180/np.pi - 90\n",
    "\telse:\n",
    "\t\tif mask == 'advACT':\n",
    "\t\t\tmask = hp.read_map(os_path + 'Adv_ACT_survey_mask.fits', dtype = np.int16)  \n",
    "\t\telif mask == 'SPT':\n",
    "\t\t\tmask = hp.read_map(os_path + 'SPT-SZ_survey_mask.fits', dtype = np.int16)\n",
    "\t\telif mask == 'Dust':\n",
    "\t\t\tmask = hp.read_map(os_path + 'galactic_dust_mask.fits', dtype = np.int16)\n",
    "\t\telif mask == 'NVSS':\n",
    "\t\t\tmask = hp.read_map(os_path + 'galactic_dust_nvss_mask.fits', dtype = np.int16)\n",
    "\t\n",
    "\t\tnside = hp.get_nside(mask)\n",
    "\n",
    "\t\tphi = np.zeros(n)\n",
    "\t\ttheta = np.zeros(n)\n",
    "\n",
    "\t\ti = int(0)\n",
    "\t\twhile i < n:\n",
    "\t\t\tphi_guess = 360 * np.random.random()\n",
    "\t\t\ttheta_guess = np.arccos(2*np.random.random() - 1)*180/np.pi - 90\n",
    "\n",
    "\t\t\tindex = hp.ang2pix(nside, phi_guess, theta_guess, lonlat = True)\n",
    "\t\t\t\n",
    "\t\t\tif mask[index] != 0:\n",
    "\t\t\t\tphi[i] = phi_guess\n",
    "\t\t\t\ttheta[i] = theta_guess\n",
    "\t\t\t\ti += 1\n",
    "\n",
    "\tif radec is True:\n",
    "\t\tprint('output will be fk5 coordinates (RA, DEC) for the equinox J2000')\n",
    "\t\tc = SkyCoord(phi, theta, frame='galactic', unit='deg')\n",
    "\t\tc_fk5 = c.transform_to('fk5')\n",
    "\t\tphi = c_fk5.ra.degree\n",
    "\t\ttheta = c_fk5.dec.degree\n",
    "\telse:\n",
    "\t\tprint('output will be galactic coordinates (glon, glat)')\n",
    "\n",
    "\treturn(phi, theta)"
   ]
  },
  {
   "cell_type": "markdown",
   "metadata": {},
   "source": [
    "# Launch : "
   ]
  },
  {
   "cell_type": "code",
   "execution_count": 21,
   "metadata": {
    "ExecuteTime": {
     "end_time": "2021-01-13T10:11:03.305837Z",
     "start_time": "2021-01-13T10:11:03.267919Z"
    }
   },
   "outputs": [
    {
     "name": "stdout",
     "output_type": "stream",
     "text": [
      "NSIDE = 256\n",
      "ORDERING = RING in fits file\n",
      "INDXSCHM = IMPLICIT\n",
      "output will be fk5 coordinates (RA, DEC) for the equinox J2000\n"
     ]
    }
   ],
   "source": [
    "A = sample_sphere_uniform(n=1, mask = 'Dust', radec = True)"
   ]
  },
  {
   "cell_type": "code",
   "execution_count": 22,
   "metadata": {
    "ExecuteTime": {
     "end_time": "2021-01-13T10:11:03.980632Z",
     "start_time": "2021-01-13T10:11:03.970044Z"
    }
   },
   "outputs": [
    {
     "name": "stdout",
     "output_type": "stream",
     "text": [
      "(array([30.23595674]), array([-65.91914277]))\n"
     ]
    }
   ],
   "source": [
    "print(A)"
   ]
  },
  {
   "cell_type": "code",
   "execution_count": 23,
   "metadata": {
    "ExecuteTime": {
     "end_time": "2021-01-13T10:11:18.110224Z",
     "start_time": "2021-01-13T10:11:18.068546Z"
    }
   },
   "outputs": [
    {
     "name": "stdout",
     "output_type": "stream",
     "text": [
      "NSIDE = 256\n",
      "ORDERING = RING in fits file\n",
      "INDXSCHM = IMPLICIT\n",
      "output will be fk5 coordinates (RA, DEC) for the equinox J2000\n"
     ]
    }
   ],
   "source": [
    "B = sample_sphere_uniform(n=10, mask = 'Dust', radec = True)"
   ]
  },
  {
   "cell_type": "code",
   "execution_count": 24,
   "metadata": {
    "ExecuteTime": {
     "end_time": "2021-01-13T10:11:25.909801Z",
     "start_time": "2021-01-13T10:11:25.905100Z"
    }
   },
   "outputs": [
    {
     "name": "stdout",
     "output_type": "stream",
     "text": [
      "(array([ 24.27843545, 143.49017644,  15.32096072, 218.83830286,\n",
      "       253.00300038, 147.05960007, 219.7140473 , 326.20804537,\n",
      "       110.35721382, 178.3705408 ]), array([ 42.38941674,  61.58932736,  -9.24416142,  53.03156   ,\n",
      "        13.99566365, -13.46815802,  -8.05135892,  20.28448773,\n",
      "        64.94176461,   6.08697253]))\n"
     ]
    }
   ],
   "source": [
    "print(B)"
   ]
  },
  {
   "cell_type": "code",
   "execution_count": 39,
   "metadata": {
    "ExecuteTime": {
     "end_time": "2021-01-13T12:07:51.902379Z",
     "start_time": "2021-01-13T12:07:51.899198Z"
    }
   },
   "outputs": [],
   "source": [
    "C = [i[0] for i in B]"
   ]
  },
  {
   "cell_type": "code",
   "execution_count": 40,
   "metadata": {
    "ExecuteTime": {
     "end_time": "2021-01-13T12:07:52.423632Z",
     "start_time": "2021-01-13T12:07:52.419781Z"
    }
   },
   "outputs": [
    {
     "name": "stdout",
     "output_type": "stream",
     "text": [
      "[24.278435446684032, 42.389416738079255]\n"
     ]
    }
   ],
   "source": [
    "print(C)"
   ]
  },
  {
   "cell_type": "code",
   "execution_count": null,
   "metadata": {},
   "outputs": [],
   "source": []
  }
 ],
 "metadata": {
  "kernelspec": {
   "display_name": "Python 3",
   "language": "python",
   "name": "python3"
  },
  "language_info": {
   "codemirror_mode": {
    "name": "ipython",
    "version": 3
   },
   "file_extension": ".py",
   "mimetype": "text/x-python",
   "name": "python",
   "nbconvert_exporter": "python",
   "pygments_lexer": "ipython3",
   "version": "3.6.5"
  },
  "toc": {
   "base_numbering": 1,
   "nav_menu": {},
   "number_sections": true,
   "sideBar": true,
   "skip_h1_title": false,
   "title_cell": "Table of Contents",
   "title_sidebar": "Contents",
   "toc_cell": false,
   "toc_position": {},
   "toc_section_display": true,
   "toc_window_display": true
  }
 },
 "nbformat": 4,
 "nbformat_minor": 2
}
