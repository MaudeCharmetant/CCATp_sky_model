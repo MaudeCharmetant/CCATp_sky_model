{
 "cells": [
  {
   "cell_type": "markdown",
   "metadata": {},
   "source": [
    "$\\Huge Code$ $\\hspace{0.1cm}$ $\\Huge to$ $\\hspace{0.1cm}$ $\\Huge simulate$ $\\hspace{0.1cm}$ $\\Huge IRAS$ $\\hspace{0.1cm}$ $\\Huge point$ $\\hspace{0.1cm}$ $\\Huge sources$ $\\hspace{0.1cm}$ $\\Huge :$ "
   ]
  },
  {
   "cell_type": "markdown",
   "metadata": {},
   "source": [
    "# Modules : "
   ]
  },
  {
   "cell_type": "code",
   "execution_count": 13,
   "metadata": {
    "ExecuteTime": {
     "end_time": "2021-01-22T10:18:48.335302Z",
     "start_time": "2021-01-22T10:18:48.256993Z"
    }
   },
   "outputs": [],
   "source": [
    "%matplotlib inline\n",
    "import healpy as hp\n",
    "import matplotlib.pyplot as plt \n",
    "from matplotlib import rc\n",
    "rc('text', usetex=True)\n",
    "from astropy.io import fits\n",
    "import numpy as np\n",
    "from astropy import constants as cst\n",
    "from astropy.cosmology import FlatLambdaCDM\n",
    "import pysm as pysm\n",
    "import ccatp_sky_model as sky\n",
    "from tqdm import tqdm \n",
    "from astropy.io import fits, ascii\n",
    "from astropy.coordinates import SkyCoord\n",
    "from astropy import units as u"
   ]
  },
  {
   "cell_type": "code",
   "execution_count": 10,
   "metadata": {
    "ExecuteTime": {
     "end_time": "2021-01-22T10:17:07.439924Z",
     "start_time": "2021-01-22T10:17:07.386580Z"
    }
   },
   "outputs": [],
   "source": [
    "cosmo = FlatLambdaCDM(H0=70, Om0=0.3, Tcmb0=2.7255)\n",
    "T_CMB = cosmo.Tcmb0.si.value\n",
    "k_B = cst.k_B.value\n",
    "h = cst.h.value\n",
    "c = cst.c.value"
   ]
  },
  {
   "cell_type": "code",
   "execution_count": 4,
   "metadata": {
    "ExecuteTime": {
     "end_time": "2021-01-22T10:12:39.234227Z",
     "start_time": "2021-01-22T10:12:39.231096Z"
    }
   },
   "outputs": [],
   "source": [
    "data_path = \"/vol/arc3/data1/sz/CCATp_sky_model/templates/\""
   ]
  },
  {
   "cell_type": "markdown",
   "metadata": {},
   "source": [
    "# Function : "
   ]
  },
  {
   "cell_type": "code",
   "execution_count": 15,
   "metadata": {
    "ExecuteTime": {
     "end_time": "2021-01-22T10:21:25.990414Z",
     "start_time": "2021-01-22T10:21:25.978360Z"
    }
   },
   "outputs": [],
   "source": [
    "def simulate_iras_ps(freq, nside_out = 4096, beam_FWHM = None, unit = 'cmb'):\n",
    "\n",
    "    '''Computes a map that contains all ~250,000 point sources from the IRAS PS catalog.\n",
    "    The measured IRAS FIR spectra have been fit with modified blackbodies and are extrapolated\n",
    "    to the mm/sum-mm regime. This function is not part of the default CCAT-p sky model and \n",
    "    serves only for allow to reproduce the forecast results obtained with previous sky models  \n",
    "    Parameters\n",
    "    ----------\n",
    "    freq: float or float array\n",
    "        Frequency of the output map in Hz. Must be a valid SO or CCAT-prime central\n",
    "        band frequency, i.e. 27, 39, 93, 145, 225, 279, 220, 280, 350, 405, or 860 GHz.\n",
    "    nside_out: float, optional\n",
    "        Healpix nside parameter of the output map. Must be a valid value for nside.\n",
    "        Default: 4096   \n",
    "    beam_FWHM: bool, optional\n",
    "        If set, the output will be convolved with a gaussian. The FWHM of the Gaussian\n",
    "        in units of arcmin is given by the provided value. Default: None\n",
    "    unit: bool, optional\n",
    "        Determines the units of the output map. The available units are 'mjy' --> MJy/sr\n",
    "        (specific intensity), 'cmb' --> K_CMB (thermodynamic temperature), and \n",
    "        'rj' --> K_RJ (brightness temperature). Default: 'cmb'.\n",
    "    Returns\n",
    "    -------\n",
    "    ps_model: float array\n",
    "        Healpix all-sky map containing the IRAS point sources.\n",
    "    '''\n",
    "\n",
    "    if beam_FWHM is None:\n",
    "        print('Warning: beam is not allowed to be None or 0. beam_FWHM will be set to 1 arcmin')\n",
    "        beam_FWHM = 1\n",
    "\n",
    "    #read data\n",
    "    data = ascii.read(data_path + 'catalogs/IRAS_PSC_fit_results.txt')\n",
    "    RA = np.array(data['RA'])\n",
    "    DEC = np.array(data['DEC'])\n",
    "    A = np.array(data['A'])\n",
    "    T = np.array(data['T'])\n",
    "    n = len(RA)\n",
    "\n",
    "    #compute spectra\n",
    "    flux = A*freq**1.3 * 2 * h * freq**3 / c**2 / (np.exp(h*freq/k_B/T)-1)\n",
    "    sigma = beam_FWHM/60*np.pi/180 / (2*np.sqrt(2*np.log(2)))\n",
    "    amplitude_ps = flux / (2*np.pi*sigma**2) / 1e6\n",
    "\n",
    "    #compute positions\n",
    "    coord = SkyCoord(ra=RA*u.degree, dec=DEC*u.degree, frame='fk5')\n",
    "    \n",
    "    gl = coord.galactic.l.value\n",
    "    gb = coord.galactic.b.value\n",
    "\n",
    "    phi = gl * np.pi/180.\n",
    "    theta = (90-gb) * np.pi/180.\n",
    "\n",
    "    vector = hp.pixelfunc.ang2vec(theta, phi)\n",
    "\n",
    "    #build map\n",
    "    ps_model = np.zeros(hp.pixelfunc.nside2npix(nside_out), dtype=np.float32)\n",
    "    for i in tqdm(np.arange(n)):\n",
    "        if amplitude_ps[i] > 0:\n",
    "            index = hp.query_disc(nside_out, vector[i,:], 5*sigma, inclusive = True)\n",
    "            vec = hp.pixelfunc.pix2vec(nside_out, index)\n",
    "            distances = hp.rotator.angdist(vector[i,:], vec)\n",
    "            ps_model[index] += amplitude_ps[i]*np.exp(-0.5*(distances**2/sigma**2))\n",
    "\n",
    "    #Convert units if necessary\n",
    "    if unit == 'cmb':\n",
    "        ps_model = sky.convert_units(freq, ps_model, mjy2cmb=True)\n",
    "    elif unit == 'mjy':\n",
    "        None\n",
    "    elif unit == 'rj':\n",
    "        ps_model = sky.convert_units(freq, ps_model, mjy2rj=True)\n",
    "    else:\n",
    "        ps_model = sky.convert_units(freq, ps_model, mjy2cmb=True)\n",
    "        print('Waring: Unknown unit! Output will be in K_CMB')\n",
    "\t\t   \n",
    "    return(ps_model)\n"
   ]
  },
  {
   "cell_type": "markdown",
   "metadata": {},
   "source": [
    "# Launch : "
   ]
  },
  {
   "cell_type": "code",
   "execution_count": 17,
   "metadata": {
    "ExecuteTime": {
     "end_time": "2021-01-22T10:29:25.533482Z",
     "start_time": "2021-01-22T10:27:39.106625Z"
    }
   },
   "outputs": [
    {
     "name": "stderr",
     "output_type": "stream",
     "text": [
      "/users/mcharmetant/anaconda3/lib/python3.6/site-packages/ipykernel_launcher.py:41: RuntimeWarning: divide by zero encountered in true_divide\n",
      "/users/mcharmetant/anaconda3/lib/python3.6/site-packages/ipykernel_launcher.py:41: RuntimeWarning: overflow encountered in exp\n",
      "100%|██████████| 245889/245889 [01:44<00:00, 2344.65it/s]\n"
     ]
    }
   ],
   "source": [
    "map_IRAS = simulate_iras_ps(freq=350e9, nside_out = 1024, beam_FWHM = 1, unit = 'cmb')"
   ]
  },
  {
   "cell_type": "code",
   "execution_count": 18,
   "metadata": {
    "ExecuteTime": {
     "end_time": "2021-01-22T10:30:16.904646Z",
     "start_time": "2021-01-22T10:29:25.540948Z"
    }
   },
   "outputs": [
    {
     "data": {
      "text/plain": [
       "masked_array(\n",
       "  data=[[-inf, -inf, -inf, ..., -inf, -inf, -inf],\n",
       "        [-inf, -inf, -inf, ..., -inf, -inf, -inf],\n",
       "        [-inf, -inf, -inf, ..., -inf, -inf, -inf],\n",
       "        ...,\n",
       "        [-inf, -inf, -inf, ..., -inf, -inf, -inf],\n",
       "        [-inf, -inf, -inf, ..., -inf, -inf, -inf],\n",
       "        [-inf, -inf, -inf, ..., -inf, -inf, -inf]],\n",
       "  mask=False,\n",
       "  fill_value=-1.6375e+30)"
      ]
     },
     "execution_count": 18,
     "metadata": {},
     "output_type": "execute_result"
    },
    {
     "data": {
      "image/png": "[encoded data removed]",
      "text/plain": [
       "<Figure size 612x388.8 with 2 Axes>"
      ]
     },
     "metadata": {},
     "output_type": "display_data"
    }
   ],
   "source": [
    "hp.mollview(map=map_IRAS, coord=None, nest=False, title='$IRAS$ $point$ $sources$',\n",
    "            unit='$K_{CMB}$', norm='hist', xsize=2000,return_projected_map=True)"
   ]
  },
  {
   "cell_type": "code",
   "execution_count": null,
   "metadata": {},
   "outputs": [],
   "source": []
  }
 ],
 "metadata": {
  "kernelspec": {
   "display_name": "Python 3",
   "language": "python",
   "name": "python3"
  },
  "language_info": {
   "codemirror_mode": {
    "name": "ipython",
    "version": 3
   },
   "file_extension": ".py",
   "mimetype": "text/x-python",
   "name": "python",
   "nbconvert_exporter": "python",
   "pygments_lexer": "ipython3",
   "version": "3.6.5"
  },
  "toc": {
   "base_numbering": 1,
   "nav_menu": {},
   "number_sections": true,
   "sideBar": true,
   "skip_h1_title": false,
   "title_cell": "Table of Contents",
   "title_sidebar": "Contents",
   "toc_cell": false,
   "toc_position": {},
   "toc_section_display": true,
   "toc_window_display": true
  }
 },
 "nbformat": 4,
 "nbformat_minor": 2
}
