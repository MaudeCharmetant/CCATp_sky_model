{
 "cells": [
  {
   "cell_type": "markdown",
   "metadata": {},
   "source": [
    "$\\Huge Code$ $\\hspace{0.1cm}$ $\\Huge to$ $\\hspace{0.1cm}$ $\\Huge return$ $\\hspace{0.1cm}$ $\\Huge masks$ $\\Huge :$ "
   ]
  },
  {
   "cell_type": "markdown",
   "metadata": {},
   "source": [
    "# Modules : "
   ]
  },
  {
   "cell_type": "code",
   "execution_count": 2,
   "metadata": {
    "ExecuteTime": {
     "end_time": "2021-01-14T09:22:27.202280Z",
     "start_time": "2021-01-14T09:22:22.322177Z"
    }
   },
   "outputs": [],
   "source": [
    "%matplotlib inline\n",
    "import healpy as hp\n",
    "import matplotlib.pyplot as plt \n",
    "from matplotlib import rc\n",
    "rc('text', usetex=True)\n",
    "from astropy.io import fits\n",
    "import numpy as np\n",
    "from astropy import constants as cst\n",
    "from astropy.cosmology import FlatLambdaCDM\n",
    "import pysm as pysm\n",
    "import ccatp_sky_model as sky"
   ]
  },
  {
   "cell_type": "code",
   "execution_count": 3,
   "metadata": {
    "ExecuteTime": {
     "end_time": "2021-01-14T09:22:31.611950Z",
     "start_time": "2021-01-14T09:22:31.588468Z"
    }
   },
   "outputs": [],
   "source": [
    "cosmo = FlatLambdaCDM(H0=70, Om0=0.3, Tcmb0=2.7255)\n",
    "T_CMB = cosmo.Tcmb0.si.value\n",
    "k_B = cst.k_B.value\n",
    "h = cst.h.value\n",
    "c = cst.c.value"
   ]
  },
  {
   "cell_type": "code",
   "execution_count": 6,
   "metadata": {
    "ExecuteTime": {
     "end_time": "2021-01-14T09:25:17.279155Z",
     "start_time": "2021-01-14T09:25:17.275722Z"
    }
   },
   "outputs": [],
   "source": [
    "os_path = \"/vol/arc3/data1/sz/CCATp_sky_model/templates/masks/\""
   ]
  },
  {
   "cell_type": "markdown",
   "metadata": {},
   "source": [
    "# Function : "
   ]
  },
  {
   "cell_type": "code",
   "execution_count": 7,
   "metadata": {
    "ExecuteTime": {
     "end_time": "2021-01-14T09:25:17.882878Z",
     "start_time": "2021-01-14T09:25:17.866756Z"
    }
   },
   "outputs": [],
   "source": [
    "def return_mask(survey, nside_out = 256, coord = 'G'):\n",
    "\n",
    "    '''Returns the specified all-sky survey map. \n",
    "    \n",
    "    Parameters\n",
    "    ----------\n",
    "    survey: sting\n",
    "        Defines which survey mask will be returned. The options are 'advACT', 'SPT',\n",
    "        'Dust', and 'NVSS'. \n",
    "    nside_out: float, optional\n",
    "        Healpix nside parameter of the output map. Must be a valid value for nside.\n",
    "        Default: 256\n",
    "    coord: sting, optional\n",
    "        Defines the coordinate system of the output mask. 'G' --> Galactic, \n",
    "        'E' --> Ecliptic, 'C' --> Equatorial. Default: 'G'\n",
    "    \n",
    "    Returns\n",
    "    -------\n",
    "    mask: float array\n",
    "        Healpix all-sky mask.\n",
    "    '''    \n",
    "    \n",
    "    #read mask\n",
    "    if survey == 'advACT':\n",
    "        mask = hp.read_map(os_path + 'Adv_ACT_survey_mask.fits', dtype = np.int16)  \n",
    "    elif survey == 'SPT':\n",
    "        mask = hp.read_map(os_path + 'SPT-SZ_survey_mask.fits', dtype = np.int16)\n",
    "    elif survey == 'Dust':\n",
    "        mask = hp.read_map(os_path + 'galactic_dust_mask.fits', dtype = np.int16)\n",
    "    elif survey == 'NVSS':\n",
    "        mask = hp.read_map(os_path + 'galactic_dust_nvss_mask.fits', dtype = np.int16)\n",
    "\n",
    "    #change coordinate system if necessary\n",
    "    if (coord == 'E') or (coord == 'C'):\n",
    "        mask = hp.ud_grade(mask, nside_out = 2048)\n",
    "        r = hp.Rotator(coord = ('G', coord))\n",
    "        mask = hp.Rotator.rotate_map_pixel(r, mask)\n",
    "        mask = hp.ud_grade(mask, nside_out = 256)\n",
    "        mask[mask != 0] = 1\n",
    "\n",
    "    #Re-bin map if necessary\n",
    "    if nside_out != hp.get_nside(mask):\n",
    "        mask = hp.ud_grade(mask, nside_out = nside_out)\n",
    "        \n",
    "    return(np.int16(mask))"
   ]
  },
  {
   "cell_type": "markdown",
   "metadata": {},
   "source": [
    "# Launch : "
   ]
  },
  {
   "cell_type": "code",
   "execution_count": 8,
   "metadata": {
    "ExecuteTime": {
     "end_time": "2021-01-14T09:25:20.960680Z",
     "start_time": "2021-01-14T09:25:18.796953Z"
    }
   },
   "outputs": [
    {
     "name": "stdout",
     "output_type": "stream",
     "text": [
      "NSIDE = 256\n",
      "ORDERING = RING in fits file\n",
      "INDXSCHM = IMPLICIT\n"
     ]
    }
   ],
   "source": [
    "mask = return_mask(survey='Dust', nside_out = 256, coord = 'G')"
   ]
  },
  {
   "cell_type": "code",
   "execution_count": 10,
   "metadata": {
    "ExecuteTime": {
     "end_time": "2021-01-14T09:26:31.270878Z",
     "start_time": "2021-01-14T09:26:30.665274Z"
    }
   },
   "outputs": [
    {
     "data": {
      "image/png": "[encoded data removed]",
      "text/plain": [
       "<Figure size 612x388.8 with 2 Axes>"
      ]
     },
     "metadata": {},
     "output_type": "display_data"
    }
   ],
   "source": [
    "hp.mollview(mask, title=\"$Dust$ $mask$\",unit='')"
   ]
  },
  {
   "cell_type": "code",
   "execution_count": 11,
   "metadata": {
    "ExecuteTime": {
     "end_time": "2021-01-14T09:32:45.840455Z",
     "start_time": "2021-01-14T09:27:34.289811Z"
    }
   },
   "outputs": [
    {
     "name": "stdout",
     "output_type": "stream",
     "text": [
      "NSIDE = 256\n",
      "ORDERING = RING in fits file\n",
      "INDXSCHM = IMPLICIT\n"
     ]
    }
   ],
   "source": [
    "mask2 = return_mask(survey='Dust', nside_out = 256, coord = 'E')"
   ]
  },
  {
   "cell_type": "code",
   "execution_count": 12,
   "metadata": {
    "ExecuteTime": {
     "end_time": "2021-01-14T09:32:46.679864Z",
     "start_time": "2021-01-14T09:32:45.845362Z"
    }
   },
   "outputs": [
    {
     "data": {
      "image/png": "[encoded data removed]",
      "text/plain": [
       "<Figure size 612x388.8 with 2 Axes>"
      ]
     },
     "metadata": {},
     "output_type": "display_data"
    }
   ],
   "source": [
    "hp.mollview(mask2, title=\"$Dust$ $mask$\",unit='')"
   ]
  },
  {
   "cell_type": "code",
   "execution_count": null,
   "metadata": {},
   "outputs": [],
   "source": []
  }
 ],
 "metadata": {
  "kernelspec": {
   "display_name": "Python 3",
   "language": "python",
   "name": "python3"
  },
  "language_info": {
   "codemirror_mode": {
    "name": "ipython",
    "version": 3
   },
   "file_extension": ".py",
   "mimetype": "text/x-python",
   "name": "python",
   "nbconvert_exporter": "python",
   "pygments_lexer": "ipython3",
   "version": "3.6.5"
  },
  "toc": {
   "base_numbering": 1,
   "nav_menu": {},
   "number_sections": true,
   "sideBar": true,
   "skip_h1_title": false,
   "title_cell": "Table of Contents",
   "title_sidebar": "Contents",
   "toc_cell": false,
   "toc_position": {},
   "toc_section_display": true,
   "toc_window_display": true
  }
 },
 "nbformat": 4,
 "nbformat_minor": 2
}
