{
 "cells": [
  {
   "cell_type": "markdown",
   "metadata": {},
   "source": [
    "$\\Huge Code$ $\\hspace{0.1cm}$ $\\Huge to$ $\\hspace{0.1cm}$ $\\Huge simulate$ $\\hspace{0.1cm}$ $\\Huge kSZ$ $\\hspace{0.1cm}$ $\\Huge maps$ $\\hspace{0.1cm}$ $\\Huge at$ $\\hspace{0.1cm}$ $\\Huge differents$ $\\hspace{0.1cm}$ $\\Huge frequencies$ $\\hspace{0.1cm}$ $\\Huge from$ $\\hspace{0.1cm}$ $\\Huge a$ $\\hspace{0.1cm}$ $\\Huge \"y_{kSZ}\"$ $\\hspace{0.1cm}$ $\\Huge map$ $\\Huge :$ "
   ]
  },
  {
   "cell_type": "markdown",
   "metadata": {},
   "source": [
    "# TO DO :"
   ]
  },
  {
   "cell_type": "markdown",
   "metadata": {},
   "source": []
  },
  {
   "cell_type": "markdown",
   "metadata": {},
   "source": [
    "# Modules : "
   ]
  },
  {
   "cell_type": "code",
   "execution_count": 63,
   "metadata": {
    "ExecuteTime": {
     "end_time": "2020-01-23T12:37:11.064997Z",
     "start_time": "2020-01-23T12:37:11.062300Z"
    }
   },
   "outputs": [],
   "source": [
    "import healpy as hp\n",
    "import matplotlib.pyplot as plt \n",
    "from matplotlib import rc\n",
    "rc('font',**{'family':'sans-serif','sans-serif':['Helvetica']})\n",
    "rc('text', usetex=True)\n",
    "from astropy.cosmology import FlatLambdaCDM\n",
    "from astropy import constants as cst\n",
    "import numpy as np "
   ]
  },
  {
   "cell_type": "markdown",
   "metadata": {},
   "source": [
    "# Physics : "
   ]
  },
  {
   "cell_type": "markdown",
   "metadata": {},
   "source": [
    "$T_{CMB}$ is the temperature of the CMB. To get the proper kSZ map we can use for our study, we need to divide each kSZ map at a given frequency by a given vector, which will turn the Jysr$^{-1}$ map into a $\\frac{\\Delta T}{T_{CMB}}$ map which is dimensionless. To get a map in $\\mu K$, we need to multiply by $T_{CMB}\\times 10^{6}$"
   ]
  },
  {
   "cell_type": "code",
   "execution_count": 64,
   "metadata": {
    "ExecuteTime": {
     "end_time": "2020-01-23T12:37:11.697676Z",
     "start_time": "2020-01-23T12:37:11.694101Z"
    }
   },
   "outputs": [],
   "source": [
    "cosmo = FlatLambdaCDM(H0=70, Om0=0.3, Tcmb0=2.7255)\n",
    "T_CMB = cosmo.Tcmb0.si.value\n",
    "k_B = cst.k_B.value\n",
    "h = cst.h.value\n",
    "c = cst.c.value"
   ]
  },
  {
   "cell_type": "markdown",
   "metadata": {},
   "source": [
    "# Functions : "
   ]
  },
  {
   "cell_type": "markdown",
   "metadata": {},
   "source": [
    "## Frequency conversion factor :"
   ]
  },
  {
   "cell_type": "markdown",
   "metadata": {},
   "source": [
    "We have a each frequency : $\\Delta I=-I_{0}y_{kSZ}\\frac{x^{4}e^{x}}{(e^{x}-1)^{2}}$"
   ]
  },
  {
   "cell_type": "code",
   "execution_count": 65,
   "metadata": {
    "ExecuteTime": {
     "end_time": "2020-01-23T12:37:12.568638Z",
     "start_time": "2020-01-23T12:37:12.565962Z"
    }
   },
   "outputs": [],
   "source": [
    "def DI_kSZ(x):\n",
    "\n",
    "    \"\"\"\n",
    "    Function which compute the DI conversion factor.\n",
    "\n",
    "    Parameters\n",
    "    ----------\n",
    "    \n",
    "    x : str\n",
    "        Path were the data of the maps are stored and we the cutout are going to be stored. \n",
    "    y : str\n",
    "        Name of the data file. \n",
    "        \n",
    "    Returns\n",
    "    -------\n",
    "    str\n",
    "        Tell us where the function stored the datas and images.\n",
    "\n",
    "    \"\"\"\n",
    "    \n",
    "    I_0 = 2*(k_B*T_CMB)**3/(h*c)**2*1e26\n",
    "    x_nu = (h*x)/(k_B*T_CMB)\n",
    "    Delta_I = (-I_0*x_nu**4*np.exp(x_nu))/((np.exp(x_nu)-1)**2)\n",
    "    \n",
    "    print(\"Delta I as been computed \")\n",
    "    \n",
    "    return   Delta_I"
   ]
  },
  {
   "cell_type": "code",
   "execution_count": 66,
   "metadata": {
    "ExecuteTime": {
     "end_time": "2020-01-23T12:37:12.760419Z",
     "start_time": "2020-01-23T12:37:12.757547Z"
    }
   },
   "outputs": [],
   "source": [
    "def mixing_vector(dic_freq): \n",
    "    \n",
    "    freq = np.arange(0,1000)*10**9  \n",
    "    Delta_I = DI_kSZ(freq)\n",
    "    mix_vect = []\n",
    "    \n",
    "    for i in range(0,len(dic_freq)):\n",
    "        mix_vect.append(Delta_I[dic_freq[i]])\n",
    "    print('The mixing vector is : ',mix_vect)\n",
    "    \n",
    "    plt.xticks(fontsize=28)\n",
    "    plt.yticks(fontsize=28)\n",
    "    plt.rcParams['figure.figsize'] = [15, 10]\n",
    "    plt.ylabel('$\\Delta I (MJysr^{-1})$',fontsize=28)\n",
    "    plt.xlabel('$Frequency$ $(GHz)$',fontsize=28)\n",
    "    plt.title('')\n",
    "    plt.hlines(y=0.,xmin=0,xmax=10000, colors='k', linestyles='solid') \n",
    "    plt.plot(freq,np.array(Delta_I))\n",
    "    plt.show()\n",
    "\n",
    "    return mix_vect"
   ]
  },
  {
   "cell_type": "markdown",
   "metadata": {},
   "source": [
    "## Construct kSZ spectral shape and conversion factor : "
   ]
  },
  {
   "cell_type": "markdown",
   "metadata": {},
   "source": [
    "The equation to convert between a change in intensity ($\\Delta I$) and a change of Temperature ($\\Delta T_{CMB}$) is : \n",
    "\n",
    "$\\frac{\\Delta I}{\\Delta T_{CMB}}=\\frac{I_0}{T_{CMB}}\\frac{x^{4}e^{x}}{(e^{x}-1)^{2}}$ or $\\Delta I=-I_{0}y_{kSZ}\\frac{x^{4}e^{x}}{(e^{x}-1)^{2}}$ with $y_{kSZ}=1$\n",
    "\n",
    "Then to go from a map in Jysr$^{-1}$ to a map in $\\mu K$ we need to multiply the maps by the INVERSE of : \n",
    "\n",
    "$\\Delta T_{CMB} = \\frac{T_{CMB}\\times 10^{6}\\Delta I}{I_0\\times 10^{26}}\\frac{(e^{x}-1)^{2}}{x^{4}e^{x}}$\n",
    "\n",
    "$I_0\\times 10^{20}=270.33$ is converted from [MJy/sr] to [Jy/sr] by multiplying by $10^{6}$. To get the maps in $\\mu K$, we multiply $T_{CMB}$ [K] by $10^{6}$ also. "
   ]
  },
  {
   "cell_type": "code",
   "execution_count": 67,
   "metadata": {
    "ExecuteTime": {
     "end_time": "2020-01-23T12:37:13.433228Z",
     "start_time": "2020-01-23T12:37:13.430673Z"
    }
   },
   "outputs": [],
   "source": [
    "def DT_kSZ(x,y):\n",
    "\n",
    "    \"\"\"\n",
    "    Function which compute the kSZ spectral shape and/or the conversion.\n",
    "\n",
    "    Parameters\n",
    "    ----------\n",
    "    \n",
    "    x : str\n",
    "        Path were the data of the maps are stored and we the cutout are going to be stored. \n",
    "    y : str\n",
    "        Name of the data file. \n",
    "        \n",
    "    Returns\n",
    "    -------\n",
    "    str\n",
    "        Tell us where the function stored the datas and images.\n",
    "\n",
    "    \"\"\"\n",
    "    \n",
    "    I_0 = 2*(k_B*T_CMB)**3/(h*c)**2*1e26\n",
    "    x_nu = (h*x)/(k_B*T_CMB)\n",
    "    Delta_T = ((np.exp(x_nu)-1)**2)/(I_0*x_nu**4*np.exp(x_nu))\n",
    "    \n",
    "    print(\"Delta T as been computed \")\n",
    "    \n",
    "    return   Delta_T"
   ]
  },
  {
   "cell_type": "code",
   "execution_count": 68,
   "metadata": {
    "ExecuteTime": {
     "end_time": "2020-01-23T12:37:13.650552Z",
     "start_time": "2020-01-23T12:37:13.646224Z"
    }
   },
   "outputs": [],
   "source": [
    "def conv_vector(dic_freq): \n",
    "    \n",
    "    freq = np.arange(0,1000)*10**9  \n",
    "    Delta_T = DT_kSZ(freq,1)\n",
    "    conv_vect = []\n",
    "    \n",
    "    for i in range(0,len(dic_freq)):\n",
    "        conv_vect.append(1/Delta_T[dic_freq[i]])\n",
    "    print('The conversion vector is : ',conv_vect)\n",
    "    \n",
    "    plt.xticks(fontsize=28)\n",
    "    plt.yticks(fontsize=28)\n",
    "    plt.rcParams['figure.figsize'] = [15, 10]\n",
    "    plt.ylabel('$\\Delta I (MJysr^{-1})$',fontsize=28)\n",
    "    plt.xlabel('$Frequency$ $(GHz)$',fontsize=28)\n",
    "    plt.title('')\n",
    "    plt.hlines(y=0.,xmin=0,xmax=10000, colors='k', linestyles='solid') \n",
    "    plt.plot(freq,np.array(Delta_T))\n",
    "    plt.show()\n",
    "\n",
    "    return conv_vect"
   ]
  },
  {
   "cell_type": "markdown",
   "metadata": {},
   "source": [
    "## Convert units : "
   ]
  },
  {
   "cell_type": "code",
   "execution_count": 69,
   "metadata": {
    "ExecuteTime": {
     "end_time": "2020-01-23T12:37:14.100572Z",
     "start_time": "2020-01-23T12:37:14.095344Z"
    }
   },
   "outputs": [],
   "source": [
    "def convert_units(freq, values, cmb2mjy=False, mjy2cmb=False, rj2mjy=False, mjy2rj=False, cmb2rj=False,\n",
    "                  rj2cmb=False):\n",
    "    \n",
    "    '''\n",
    "    Convert observed signal at given frequencies to different units. \n",
    "    Parameters\n",
    "    ----------\n",
    "    freq: float or float array\n",
    "        Frequency in Hz.\n",
    "    values: float or float array\n",
    "        Measured signal.\n",
    "    cmb2mjy: bool, optional\n",
    "        If True, the input is assumed to be K_CMB, the output will be MJy/sr.\n",
    "        Default: False\n",
    "    mjy2cmb: bool, optional\n",
    "        If True, the input is assumed to be MJy/sr, the output will be K_CMB.\n",
    "        Default: False\n",
    "    rj2mjy: bool, optional\n",
    "    If True, the input is assumed to be K_RJ, the output will be MJy/sr.\n",
    "    Default: False\n",
    "    mjy2rj: bool, optional\n",
    "        If True, the input is assumed to be MJy/sr, the output will be K_RJ.\n",
    "        Default: False\n",
    "    cmb2rj: bool, optional\n",
    "        If True, the input is assumed to be K_CMB, the output will be K_RJ.\n",
    "        Default: False\n",
    "    rj2cmb: bool, optional\n",
    "        If True, the input is assumed to be K_RJ, the output will be K_CMB.\n",
    "        Default: False\n",
    "    Returns\n",
    "    -------\n",
    "    converted_signal: float or float array\n",
    "        Converted signal\n",
    "    '''\n",
    "\n",
    "    x = h * freq / k_B / T_CMB\n",
    "    \n",
    "    if cmb2mjy is True:\n",
    "        conversion = 1e20 * 2*k_B**3.*T_CMB**2. / (h * c)**2. * x**4. * np.exp(x) / (np.exp(x)-1)**2.\n",
    "    elif mjy2cmb is True:\n",
    "        conversion = 1/(1e20 * 2*k_B**3.*T_CMB**2. / (h * c)**2. * x**4. * np.exp(x) / (np.exp(x)-1)**2.)\n",
    "    elif rj2mjy is True:\n",
    "        conversion = 1e20 * 2*freq**2.*k_B/c**2.\n",
    "    elif mjy2rj is True:\n",
    "        conversion = 1/(1e20 * 2*freq**2.*k_B/c**2.)\n",
    "    elif cmb2rj is True:\n",
    "        conversion = (k_B*T_CMB/h)**2. * x**4. * np.exp(x) / (np.exp(x)-1)**2. / freq**2.\n",
    "    elif rj2cmb is True:\n",
    "        conversion = 1/((k_B*T_CMB/h)**2. * x**4. * np.exp(x) / (np.exp(x)-1)**2. / freq**2.)        \n",
    "    else:\n",
    "        print(\"Not sure which units are given and what should be returned.\")\n",
    "\n",
    "    converted_signal = conversion * values\n",
    "\n",
    "    return(converted_signal)"
   ]
  },
  {
   "cell_type": "markdown",
   "metadata": {},
   "source": [
    "## Multiply a map by a given vector : "
   ]
  },
  {
   "cell_type": "markdown",
   "metadata": {},
   "source": [
    "Now that we have the mixing vector for the frequencies used in our data, we can multiply the kSZ map by this vector, which will give us the \"$y_{kSZ}$\". "
   ]
  },
  {
   "cell_type": "code",
   "execution_count": 70,
   "metadata": {
    "ExecuteTime": {
     "end_time": "2020-01-23T12:37:14.841904Z",
     "start_time": "2020-01-23T12:37:14.838154Z"
    }
   },
   "outputs": [],
   "source": [
    "def udgrade_NSIDE(data_path,pictures_path,file_name,title_omap,title_nmap,map_unit,nside,name_file_udmap):\n",
    "    \n",
    "    \"\"\"\n",
    "    Function which upgrade or degrade the NSIDE of an HEALPix map. \n",
    "\n",
    "    Parameters\n",
    "    ----------\n",
    "    \n",
    "    data_path : str\n",
    "        Path were the data of the maps are stored. \n",
    "    pictures_path : str \n",
    "        Path where we are going to save the pictures. \n",
    "    file_name : str \n",
    "        Name of the FITS file containing the map we want to upgrade or degrade. \n",
    "    title_omap : str \n",
    "        Title displayed on the original map. \n",
    "    title_nmap : str\n",
    "        Title displayed on the upgraded or degraded map. \n",
    "    map_unit : str \n",
    "        Unit of the map we want to upgrade or degrade, will appear on the HEALPix respresentation.\n",
    "    nside : int \n",
    "        Value of the new resolution we want to apply to the healpix map to upgrade or degrade it.\n",
    "    name_file_udmap : str \n",
    "        Name of the FITS file and image name under which the updgraded or degraded map is going to be saved.  \n",
    "        \n",
    "    Returns\n",
    "    -------\n",
    "    str\n",
    "        Tell us where the function stored the images. \n",
    "\n",
    "    \"\"\"\n",
    "    \n",
    "    #Open the original map and display it : \n",
    "    maps = hp.read_map(data_path + file_name)\n",
    "    hp.mollview(map=maps,coord=None, nest=False, title=title_omap, unit=map_unit, norm='hist')\n",
    "    \n",
    "    #Upgarde or degrade the map : \n",
    "    ud_map = hp.pixelfunc.ud_grade(map_in=maps, nside_out=nside, pess=False, order_in='RING', order_out=None, power=None, dtype=None)\n",
    "    \n",
    "    #Write the map as a FITS file and display it : \n",
    "    A = hp.write_map(data_path + name_file_udmap + '.fits',ud_map,overwrite=True)\n",
    "    hp.mollview(map=ud_map,coord=None, nest=False, title=title_nmap, unit=map_unit, norm='hist')\n",
    "    plt.savefig(pictures_path + name_file_udmap  + '.png')\n",
    "    plt.show()\n",
    "    \n",
    "    return A"
   ]
  },
  {
   "cell_type": "code",
   "execution_count": 71,
   "metadata": {
    "ExecuteTime": {
     "end_time": "2020-01-23T12:37:15.088372Z",
     "start_time": "2020-01-23T12:37:15.080334Z"
    }
   },
   "outputs": [],
   "source": [
    "def mapxvalue(data_path,file_in,multiplier,simu,map_unit,pictures_path,dic_freq,factor,name_object,freq_unit,\n",
    "                  data_save,convert,multiply): \n",
    "\n",
    "    \"\"\"\n",
    "    Function which take a Halpix map and multiply it by a vector. \n",
    "\n",
    "    Parameters\n",
    "    ----------\n",
    "    \n",
    "    data_path : str\n",
    "        Path were the data of the maps are stored and we the cutout are going to be stored. \n",
    "    file_in : str\n",
    "        Name of the data file. \n",
    "    multiplier : list\n",
    "        Vector containing the different values you want to divide the map with. \n",
    "    data_origin : str\n",
    "        Origin of the data used here, for exemple Planck AllSky maps. This is going to be use for figure titles and \n",
    "        names of files. \n",
    "    maps_unit : str \n",
    "        Units of the maps that are displayed, for exemple K_CMB, MJy/sr. This is going to be use for figure titles and\n",
    "        names of files.  \n",
    "    pictures_path : str\n",
    "        Path where we are going to save the pictures.   \n",
    "    dic_freq : dict\n",
    "        Dictonary containing all the frequencies we want to deal with for those peculiar data. \n",
    "    factor : float \n",
    "        Number by which we can multiply the map getting out, the map that is going to be saved.        \n",
    "    name_object : str\n",
    "        Type of Healpix map. FOR EXEMPLE : CMB, tSZ, kSZ. \n",
    "    freq_unit : str\n",
    "        Units of the frequencies, for exemple GHz. This is going to be use for figure titles and names of files. \n",
    "    data_save : str\n",
    "        path under which the new maps will be saved.\n",
    "        \n",
    "    Returns\n",
    "    -------\n",
    "    str\n",
    "        Tell us where the function stored the datas and images.\n",
    "\n",
    "    \"\"\"\n",
    "    \n",
    "    # Open the datas :    \n",
    "\n",
    "   \n",
    "    \n",
    "    if multiply == True: \n",
    "        \n",
    "        maps = file_in\n",
    "        \n",
    "        #Frequency change : \n",
    "        maps_freq = (maps*multiplier) \n",
    "\n",
    "        #Dislay and save tha map : \n",
    "        print(name_object + ' map at the frequency ' + str(dic_freq) + freq_unit + ' :')\n",
    "        hp.mollview(map=maps_freq, coord=None, nest=False,title='kSZ at ' + str(dic_freq) + 'GHz from ' + simu, unit=map_unit, \n",
    "                    norm='hist',xsize=2000) #Display a read FITS file with Healpy and save it\n",
    "        plt.savefig(pictures_path + 'kSZ_'+ str(dic_freq) + '_' + simu + '.png') #Save the figure        \n",
    "        plt.show()   \n",
    "\n",
    "\n",
    "        #Save file : \n",
    "        hp.write_map(data_save + 'kSZ_'+ str(dic_freq[i]) + '_' + simu + '.fits', maps_freq,nest=False,dtype=np.float32,\n",
    "                     overwrite=True)\n",
    "        print('Maps is saved under the name : ' + data_save + 'kSZ_'+ str(dic_freq[i]) + '_' + simu + '.fits')\n",
    "\n",
    "\n",
    "        print(\"Map has been multiplied by the mixing vector, Images are saved in \" + data_save)\n",
    "        \n",
    "    \n",
    "    maps = hp.read_map(data_path+file_in)\n",
    "        \n",
    "    for i in range(len(dic_freq)):\n",
    "    \n",
    "        if convert == True: \n",
    "            \n",
    "            #Convert the map :\n",
    "            maps_freq = (maps / multiplier[i])*T_CMB*10**6*factor\n",
    "            \n",
    "            #Dislay and save tha map : \n",
    "            print(name_object + ' map at the frequency ' + str(dic_freq[i]) + freq_unit + ' :')\n",
    "            hp.mollview(map=maps_freq, coord=None, nest=False,title='ykSZ from ' + simu, unit=map_unit, \n",
    "                    norm='hist',xsize=2000) #Display a read FITS file with Healpy and save it\n",
    "            plt.savefig(pictures_path + 'ykSZ_' + simu + '.png') #Save the figure        \n",
    "            plt.show()   \n",
    "\n",
    "\n",
    "            #Save file : \n",
    "            hp.write_map(data_save + 'ykSZ_' + simu + '.fits', maps_freq,nest=False,dtype=np.float32,\n",
    "                     overwrite=True)\n",
    "            print('Maps is saved under the name : ' + data_save + 'ykSZ_' + simu + '.fits')\n",
    "\n",
    "\n",
    "            print(\"Map has been multiplied by the mixing vector, Images are saved in \" + data_save)\n",
    "    \n",
    "        else:\n",
    "            \n",
    "            #Frequency change : \n",
    "            maps_freq = (maps*multiplier[i]) \n",
    "\n",
    "            #Dislay and save tha map : \n",
    "            print(name_object + ' map at the frequency ' + str(dic_freq[i]) + freq_unit + ' :')\n",
    "            hp.mollview(map=maps_freq, coord=None, nest=False,title='kSZ at ' + str(dic_freq[i]) + 'GHz from ' + simu, unit=map_unit, \n",
    "                    norm='hist',xsize=2000) #Display a read FITS file with Healpy and save it\n",
    "            plt.savefig(pictures_path + 'kSZ_'+ str(dic_freq[i]) + '_' + simu + '.png') #Save the figure        \n",
    "            plt.show()   \n",
    "\n",
    "\n",
    "            #Save file : \n",
    "            hp.write_map(data_save + 'kSZ_'+ str(dic_freq[i]) + '_' + simu + '.fits', maps_freq,nest=False,dtype=np.float32,\n",
    "                     overwrite=True)\n",
    "            print('Maps is saved under the name : ' + data_save + 'kSZ_'+ str(dic_freq[i]) + '_' + simu + '.fits')\n",
    "\n",
    "\n",
    "            print(\"Map has been multiplied by the mixing vector, Images are saved in \" + data_save)\n",
    "\n",
    "        \n",
    "    return "
   ]
  },
  {
   "cell_type": "code",
   "execution_count": 89,
   "metadata": {
    "ExecuteTime": {
     "end_time": "2020-01-23T12:56:43.157495Z",
     "start_time": "2020-01-23T12:56:43.149765Z"
    }
   },
   "outputs": [],
   "source": [
    "def simulate_kSZ(simu,dic_freq,unit_out):\n",
    "    \n",
    "    if simu == 'SO':\n",
    "        \n",
    "        #Fixed datas : \n",
    "        data_path='/vol/arc3/data1/sz/SO_sky_model/CMB_SZ_maps/'\n",
    "        data_save = '/vol/arc3/data1/sz/CCATp_sky_model/workspace_maude/SO/'\n",
    "        pictures_path = '/vol/arc3/data1/sz/SO_sky_model/pictures/'\n",
    "        file_in = data_path + '148_ksz_healpix_nopell_Nside4096_DeltaT_uK.fits'\n",
    "\n",
    "        name_object = 'tSZ'\n",
    "        freq_unit='GHz'\n",
    "    \n",
    "        if unit_out == 'mK': \n",
    "        \n",
    "            # Open, display and save the y_kSZ map : \n",
    "            ykSZ_map = hp.read_map(file_in,nest=False,partial=False) #Read a FITS file with Healpy\n",
    "                    \n",
    "            print('Here is the \"y_kSZ\" map from '+ simu + ' :')\n",
    "            hp.mollview(map=ykSZ_map, coord=None, nest=False,title='$y_{kSZ}$ $map$ $from$ '+ simu, unit='$\\mu K$',\n",
    "                        norm='hist', xsize=2000,return_projected_map=True) #Display a read FITS file with Healpy and save it\n",
    "            plt.savefig(pictures_path + 'ykSZ_'+simu+'.png')\n",
    "            plt.show()\n",
    "\n",
    "            #Save file : \n",
    "            hp.write_map(data_save + 'ykSZ_' + simu + '.fits', ykSZ_map,nest=False,dtype=np.float32,overwrite=True)\n",
    "\n",
    "            #Feedback operator : \n",
    "            print('Maps is saved under the name : ' + data_save + 'Compton-y_' + data_origin + '.fits')       \n",
    "    \n",
    "    \n",
    "    if simu == 'Sehgal' : \n",
    "        \n",
    "        #Fixed datas :         \n",
    "        data_path='/vol/arc3/data1/sz/Sehgal/'\n",
    "        data_save = '/vol/arc3/data1/sz/CCATp_sky_model/workspace_maude/Sehgal/'\n",
    "        pictures_path = '/vol/arc3/data1/sz/Sehgal/pictures/'\n",
    "        file_in = '030_ksz_healpix.fits'\n",
    "        name_object = 'y_kSZ'\n",
    "        \n",
    "    \n",
    "    print(\"Map has been multiplied by the mixing vector, Images are saved in \" + data_save)\n",
    "        \n",
    "    if unit_out == 'mK':\n",
    "      \n",
    "        #Produce y-kSZ : \n",
    "            \n",
    "        # Open the datas :    \n",
    "        maps = hp.read_map(data_path+file_in)\n",
    "        \n",
    "        #Convert the map :\n",
    "        maps_freq = (maps / conv_vector({0:30}))*T_CMB*10**6\n",
    "\n",
    "        #Dislay and save tha map : \n",
    "        print(name_object + ' :')\n",
    "        hp.mollview(map=maps_freq, coord=None, nest=False,title='ykSZ from ' + simu, unit='$\\mu K$', \n",
    "                    norm='hist',xsize=2000) #Display a read FITS file with Healpy and save it\n",
    "        plt.savefig(pictures_path + 'ykSZ_' + simu + '.png') #Save the figure        \n",
    "        plt.show()   \n",
    "         \n",
    "        #Save file : \n",
    "        hp.write_map(data_save + 'ykSZ_' + simu + '.fits', maps_freq,nest=False,dtype=np.float32,\n",
    "                     overwrite=True)\n",
    "        print('Maps is saved under the name : ' + data_save + 'ykSZ_' + simu + '.fits')\n",
    "        \n",
    "            \n",
    "        #Produce kSZ at different frequencies : \n",
    "        multi = mixing_vector(dic_freq)\n",
    "\n",
    "        mapxvalue(data_path=data_path,file_in=file_in,multiplier=multi,simu=simu,map_unit='$\\mu K$',\n",
    "                    pictures_path=pictures_path,dic_freq=dic_freq,factor=1,name_object='ykSZ',freq_unit='GHz',\n",
    "                    data_save=data_save,convert=False,multiply=False)\n",
    "        \n",
    "    if unit_out=='Jysr': \n",
    "            \n",
    "        freq = np.arange(0,1000)*10**9  \n",
    "        Delta_I = DI_kSZ(freq)\n",
    "        \n",
    "        for i in range(len(dic_freq)):\n",
    "\n",
    "            mix_vect = (Delta_I[dic_freq[i]])\n",
    "            print(mix_vect)\n",
    "\n",
    "            A = mapxvalue(data_path=data_path,file_in=file_in,multiplier=mix_vect,simu=simu,map_unit='$\\mu K$',\n",
    "                              pictures_path=pictures_path,dic_freq=dic_freq[i],factor=1,name_object='kSZ',freq_unit='GHz',\n",
    "                              data_save=data_save,convert=False,multiply=True)\n",
    "                \n",
    "            mapxvalue(data_path=data_path,file_in=A,multiplier=mix_vect,simu=simu,map_unit='$Jysr$',\n",
    "                          pictures_path=pictures_path,dic_freq=dic_freq,factor=1/(T_CMB*10**6),name_object='ykSZ',freq_unit='GHz',\n",
    "                          data_save=data_save,convert=False)\n",
    "        \n",
    "            "
   ]
  },
  {
   "cell_type": "markdown",
   "metadata": {},
   "source": [
    "# Launch : "
   ]
  },
  {
   "cell_type": "code",
   "execution_count": 90,
   "metadata": {
    "ExecuteTime": {
     "end_time": "2020-01-23T12:56:43.642120Z",
     "start_time": "2020-01-23T12:56:43.630544Z"
    },
    "scrolled": false
   },
   "outputs": [
    {
     "name": "stdout",
     "output_type": "stream",
     "text": [
      "Map has been multiplied by the mixing vector, Images are saved in /vol/arc3/data1/sz/CCATp_sky_model/workspace_maude/Sehgal/\n",
      "Delta I as been computed \n",
      "-73635005.0206906\n"
     ]
    },
    {
     "name": "stderr",
     "output_type": "stream",
     "text": [
      "/users/mcharmetant/anaconda3/lib/python3.6/site-packages/ipykernel_launcher.py:23: RuntimeWarning: invalid value encountered in true_divide\n"
     ]
    },
    {
     "ename": "TypeError",
     "evalue": "can't multiply sequence by non-int of type 'numpy.float64'",
     "output_type": "error",
     "traceback": [
      "\u001b[0;31m---------------------------------------------------------------------------\u001b[0m",
      "\u001b[0;31mTypeError\u001b[0m                                 Traceback (most recent call last)",
      "\u001b[0;32m<ipython-input-90-41ed0f19aea6>\u001b[0m in \u001b[0;36m<module>\u001b[0;34m()\u001b[0m\n\u001b[0;32m----> 1\u001b[0;31m \u001b[0msimulate_kSZ\u001b[0m\u001b[0;34m(\u001b[0m\u001b[0msimu\u001b[0m\u001b[0;34m=\u001b[0m\u001b[0;34m'Sehgal'\u001b[0m\u001b[0;34m,\u001b[0m\u001b[0mdic_freq\u001b[0m\u001b[0;34m=\u001b[0m\u001b[0;34m{\u001b[0m\u001b[0;36m0\u001b[0m\u001b[0;34m:\u001b[0m\u001b[0;36m30\u001b[0m\u001b[0;34m,\u001b[0m\u001b[0;36m1\u001b[0m\u001b[0;34m:\u001b[0m\u001b[0;36m90\u001b[0m\u001b[0;34m,\u001b[0m\u001b[0;36m2\u001b[0m\u001b[0;34m:\u001b[0m\u001b[0;36m148\u001b[0m\u001b[0;34m,\u001b[0m\u001b[0;36m3\u001b[0m\u001b[0;34m:\u001b[0m\u001b[0;36m219\u001b[0m\u001b[0;34m,\u001b[0m\u001b[0;36m4\u001b[0m\u001b[0;34m:\u001b[0m\u001b[0;36m277\u001b[0m\u001b[0;34m,\u001b[0m\u001b[0;36m5\u001b[0m\u001b[0;34m:\u001b[0m\u001b[0;36m350\u001b[0m\u001b[0;34m}\u001b[0m\u001b[0;34m,\u001b[0m\u001b[0munit_out\u001b[0m\u001b[0;34m=\u001b[0m\u001b[0;34m'Jysr'\u001b[0m\u001b[0;34m)\u001b[0m\u001b[0;34m\u001b[0m\u001b[0m\n\u001b[0m",
      "\u001b[0;32m<ipython-input-89-bf30bcac0d19>\u001b[0m in \u001b[0;36msimulate_kSZ\u001b[0;34m(simu, dic_freq, unit_out)\u001b[0m\n\u001b[1;32m     84\u001b[0m             A = mapxvalue(data_path=data_path,file_in=file_in,multiplier=mix_vect,simu=simu,map_unit='$Jysr$',\n\u001b[1;32m     85\u001b[0m                               \u001b[0mpictures_path\u001b[0m\u001b[0;34m=\u001b[0m\u001b[0mpictures_path\u001b[0m\u001b[0;34m,\u001b[0m\u001b[0mdic_freq\u001b[0m\u001b[0;34m=\u001b[0m\u001b[0mdic_freq\u001b[0m\u001b[0;34m[\u001b[0m\u001b[0mi\u001b[0m\u001b[0;34m]\u001b[0m\u001b[0;34m,\u001b[0m\u001b[0mfactor\u001b[0m\u001b[0;34m=\u001b[0m\u001b[0;36m1\u001b[0m\u001b[0;34m,\u001b[0m\u001b[0mname_object\u001b[0m\u001b[0;34m=\u001b[0m\u001b[0;34m'kSZ'\u001b[0m\u001b[0;34m,\u001b[0m\u001b[0mfreq_unit\u001b[0m\u001b[0;34m=\u001b[0m\u001b[0;34m'GHz'\u001b[0m\u001b[0;34m,\u001b[0m\u001b[0;34m\u001b[0m\u001b[0m\n\u001b[0;32m---> 86\u001b[0;31m                               data_save=data_save,convert=False,multiply=True)\n\u001b[0m\u001b[1;32m     87\u001b[0m \u001b[0;34m\u001b[0m\u001b[0m\n\u001b[1;32m     88\u001b[0m             mapxvalue(data_path=data_path,file_in=A,multiplier=mix_vect,simu=simu,map_unit='$Jysr$',\n",
      "\u001b[0;32m<ipython-input-71-f1459b3df03e>\u001b[0m in \u001b[0;36mmapxvalue\u001b[0;34m(data_path, file_in, multiplier, simu, map_unit, pictures_path, dic_freq, factor, name_object, freq_unit, data_save, convert, multiply)\u001b[0m\n\u001b[1;32m     49\u001b[0m \u001b[0;34m\u001b[0m\u001b[0m\n\u001b[1;32m     50\u001b[0m         \u001b[0;31m#Frequency change :\u001b[0m\u001b[0;34m\u001b[0m\u001b[0;34m\u001b[0m\u001b[0m\n\u001b[0;32m---> 51\u001b[0;31m         \u001b[0mmaps_freq\u001b[0m \u001b[0;34m=\u001b[0m \u001b[0;34m(\u001b[0m\u001b[0mmaps\u001b[0m\u001b[0;34m*\u001b[0m\u001b[0mmultiplier\u001b[0m\u001b[0;34m)\u001b[0m\u001b[0;34m\u001b[0m\u001b[0m\n\u001b[0m\u001b[1;32m     52\u001b[0m \u001b[0;34m\u001b[0m\u001b[0m\n\u001b[1;32m     53\u001b[0m         \u001b[0;31m#Dislay and save tha map :\u001b[0m\u001b[0;34m\u001b[0m\u001b[0;34m\u001b[0m\u001b[0m\n",
      "\u001b[0;31mTypeError\u001b[0m: can't multiply sequence by non-int of type 'numpy.float64'"
     ]
    }
   ],
   "source": [
    "simulate_kSZ(simu='Sehgal',dic_freq={0:30,1:90,2:148,3:219,4:277,5:350},unit_out='Jysr') "
   ]
  },
  {
   "cell_type": "code",
   "execution_count": null,
   "metadata": {},
   "outputs": [],
   "source": []
  },
  {
   "cell_type": "code",
   "execution_count": null,
   "metadata": {},
   "outputs": [],
   "source": []
  }
 ],
 "metadata": {
  "kernelspec": {
   "display_name": "Python 3",
   "language": "python",
   "name": "python3"
  },
  "language_info": {
   "codemirror_mode": {
    "name": "ipython",
    "version": 3
   },
   "file_extension": ".py",
   "mimetype": "text/x-python",
   "name": "python",
   "nbconvert_exporter": "python",
   "pygments_lexer": "ipython3",
   "version": "3.6.5"
  },
  "toc": {
   "base_numbering": 1,
   "nav_menu": {},
   "number_sections": true,
   "sideBar": true,
   "skip_h1_title": false,
   "title_cell": "Table of Contents",
   "title_sidebar": "Contents",
   "toc_cell": false,
   "toc_position": {
    "height": "868px",
    "left": "28px",
    "top": "151.133px",
    "width": "371px"
   },
   "toc_section_display": true,
   "toc_window_display": true
  }
 },
 "nbformat": 4,
 "nbformat_minor": 2
}
